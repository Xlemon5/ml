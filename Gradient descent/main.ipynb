{
 "cells": [
  {
   "cell_type": "code",
   "execution_count": 10,
   "id": "01435c26",
   "metadata": {},
   "outputs": [],
   "source": [
    "import matplotlib.pyplot as plt\n",
    "import numpy as np\n"
   ]
  },
  {
   "cell_type": "code",
   "execution_count": 11,
   "id": "d64c91d8",
   "metadata": {},
   "outputs": [],
   "source": [
    "def func(x):\n",
    "    return x**3 - 6*x**2 - 15*x + 10\n",
    "\n",
    "def func_derivative(x):\n",
    "        return 3*x**2 - 12*x - 15"
   ]
  },
  {
   "cell_type": "code",
   "execution_count": 12,
   "id": "c4c4c107",
   "metadata": {},
   "outputs": [],
   "source": [
    "x = np.linspace(-5, 10, 150)"
   ]
  },
  {
   "cell_type": "code",
   "execution_count": 24,
   "id": "bc7fcee8",
   "metadata": {},
   "outputs": [],
   "source": [
    "def descent_and_plot(X_start=10, learning_rate=0.01, threshold=0.0001):\n",
    "    X_start = X_start\n",
    "    learning_rate = learning_rate\n",
    "    threshold = threshold\n",
    "    \n",
    "    X_next = X_start - learning_rate * func_derivative(X_start)\n",
    "    \n",
    "    plt.plot(x, func(x), alpha=0.5)\n",
    "    \n",
    "    plt.scatter([X_start, X_next],\n",
    "                [func(X_start), func(X_next)],\n",
    "                color='green',\n",
    "                s=30)\n",
    "    \n",
    "    plt.plot([X_start, X_next],\n",
    "                [func(X_start), func(X_next)],\n",
    "                color='red')\n",
    "    \n",
    "    plt.ylabel('f')\n",
    "    plt.xlabel('x')\n",
    "    \n",
    "    \n",
    "    while(abs(X_start - X_next) > threshold):\n",
    "        X_start = X_next\n",
    "        \n",
    "        X_next = X_start - learning_rate * func_derivative(X_start)\n",
    "        \n",
    "        #print(f\"X_start = {X_start};  X_next = {X_next}\")\n",
    "        \n",
    "        plt.scatter([X_start, X_next],\n",
    "                [func(X_start), func(X_next)],\n",
    "                color='green',\n",
    "                s=30)\n",
    "    \n",
    "        plt.plot([X_start, X_next],\n",
    "                [func(X_start), func(X_next)],\n",
    "                color='red')\n",
    "    print(f'Найденная точка в конце градиентного спуска это X={X_next}')"
   ]
  },
  {
   "cell_type": "code",
   "execution_count": 25,
   "id": "7ce8a5a4",
   "metadata": {},
   "outputs": [
    {
     "name": "stdout",
     "output_type": "stream",
     "text": [
      "Найденная точка в конце градиентного спуска это X=4.999584029924965\n"
     ]
    },
    {
     "data": {
      "image/png": "[encoded data removed]",
      "text/plain": [
       "<Figure size 640x480 with 1 Axes>"
      ]
     },
     "metadata": {},
     "output_type": "display_data"
    }
   ],
   "source": [
    "descent_and_plot(2)"
   ]
  },
  {
   "cell_type": "code",
   "execution_count": null,
   "id": "555e9414",
   "metadata": {},
   "outputs": [],
   "source": [
    "class GradientDescentMse:\n",
    "    \"\"\"\n",
    "    Базовый класс для реализации градиентного спуска в задаче линейной МНК регрессии \n",
    "    \"\"\"\n",
    "\n",
    "    def __init__(self, samples: pd.DataFrame, targets: pd.DataFrame,\n",
    "                 learning_rate: float = 1e-3, threshold = 1e-6, copy: bool = True):\n",
    "        \"\"\"\n",
    "        self.samples - матрица признаков\n",
    "        self.targets - вектор таргетов\n",
    "        self.beta - вектор из изначальными весами модели == коэффициентами бета (состоит из единиц)\n",
    "        self.learning_rate - параметр *learning_rate* для корректировки нормы градиента\n",
    "        self.threshold - величина, меньше которой изменение в loss-функции означает остановку градиентного спуска\n",
    "        iteration_loss_dict - словарь, который будет хранить номер итерации и соответствующую MSE\n",
    "        copy: копирование матрицы признаков или создание изменения in-place\n",
    "        \"\"\"\n",
    "        if copy:\n",
    "            self.samples = samples.copy()\n",
    "        else:\n",
    "            self.samples = samples\n",
    "        \n",
    "        self.targets = targets\n",
    "        self.learning_rate = learning_rate\n",
    "        self.threshold = threshold\n",
    "        \n",
    "        self.beta = np.ones(self.samples.shape[1])\n",
    "        self.iteration_num = 0\n",
    "        self.iteration_loss_dict = {}\n",
    "        \n",
    "    def add_constant_feature(self):\n",
    "        \"\"\"\n",
    "        Метод для создания константной фичи в матрице объектов samples\n",
    "        Метод создает колонку с константным признаком (interсept) в матрице признаков.\n",
    "        Hint: так как количество признаков увеличилось на одну, не забудьте дополнить вектор с изначальными весами модели!\n",
    "        \"\"\"\n",
    "        self.samples['КОНСТАНТА'] = 1\n",
    "        self.beta = np.append(self.beta, 1)\n",
    "        \n",
    "    def calculate_mse_loss(self) -> float:\n",
    "        \"\"\"\n",
    "        Метод для расчета среднеквадратической ошибки\n",
    "        \n",
    "        :return: среднеквадратическая ошибка при текущих весах модели : float\n",
    "        \"\"\"\n",
    "        loss = np.dot(self.samples, self.beta) - self.targets.values\n",
    "        \n",
    "        return np.mean(loss**2)\n",
    "\n",
    "    def calculate_gradient(self) -> np.ndarray:\n",
    "        \"\"\"\n",
    "        Метод для вычисления вектора-градиента\n",
    "        Метод возвращает вектор-градиент, содержащий производные по каждому признаку.\n",
    "        Сначала матрица признаков скалярно перемножается на вектор self.beta, и из каждой колонки\n",
    "        полученной матрицы вычитается вектор таргетов. Затем полученная матрица скалярно умножается на матрицу признаков.\n",
    "        Наконец, итоговая матрица умножается на 2 и усредняется по каждому признаку.\n",
    "        \n",
    "        :return: вектор-градиент, т.е. массив, содержащий соответствующее количество производных по каждой переменной : np.ndarray\n",
    "        \"\"\"\n",
    "        ### Your code is here\n",
    "    \n",
    "    \n",
    "    def iteration(self):\n",
    "        \"\"\"\n",
    "        Обновляем веса модели в соответствии с текущим вектором-градиентом\n",
    "        \"\"\"\n",
    "        ### Your code is here\n",
    "        \n",
    "    def learn(self):\n",
    "        \"\"\"\n",
    "        Итеративное обучение весов модели до срабатывания критерия останова\n",
    "        Запись mse и номера итерации в iteration_loss_dict\n",
    "        \n",
    "        Описание алгоритма работы для изменения бет:\n",
    "            Фиксируем текущие beta -> start_betas\n",
    "            Делаем шаг градиентного спуска\n",
    "            Записываем новые beta -> new_betas\n",
    "            Пока |L(new_beta) - L(start_beta)| >= threshold:\n",
    "                Повторяем первые 3 шага\n",
    "                \n",
    "        Описание алгоритма работы для изменения функции потерь:\n",
    "            Фиксируем текущие mse -> previous_mse\n",
    "            Делаем шаг градиентного спуска\n",
    "            Записываем новые mse -> next_mse\n",
    "            Пока |(previous_mse) - (next_mse)| >= threshold:\n",
    "                Повторяем первые 3 шага\n",
    "        \"\"\"\n",
    "        ### Your code is here"
   ]
  },
  {
   "cell_type": "code",
   "execution_count": null,
   "id": "4f3df3f0",
   "metadata": {},
   "outputs": [],
   "source": []
  },
  {
   "cell_type": "code",
   "execution_count": null,
   "id": "809aa8ca",
   "metadata": {},
   "outputs": [],
   "source": []
  }
 ],
 "metadata": {
  "kernelspec": {
   "display_name": "Python 3 (ipykernel)",
   "language": "python",
   "name": "python3"
  },
  "language_info": {
   "codemirror_mode": {
    "name": "ipython",
    "version": 3
   },
   "file_extension": ".py",
   "mimetype": "text/x-python",
   "name": "python",
   "nbconvert_exporter": "python",
   "pygments_lexer": "ipython3",
   "version": "3.11.5"
  }
 },
 "nbformat": 4,
 "nbformat_minor": 5
}
